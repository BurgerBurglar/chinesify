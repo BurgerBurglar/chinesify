{
 "cells": [
  {
   "cell_type": "code",
   "execution_count": null,
   "metadata": {},
   "outputs": [],
   "source": [
    "import pandas as pd\n",
    "from urllib.request import urlopen\n",
    "from collections import Counter\n",
    "from pypinyin import lazy_pinyin, pinyin\n",
    "\n",
    "pd.set_option('display.max_rows', 500)"
   ]
  },
  {
   "cell_type": "code",
   "execution_count": null,
   "metadata": {},
   "outputs": [],
   "source": [
    "df_ming = pd.read_csv(\n",
    "    \"https://raw.githubusercontent.com/wainshine/Chinese-Names-Corpus/master/Chinese_Names_Corpus/Chinese_Names_Corpus_Gender%EF%BC%88120W%EF%BC%89.txt\",\n",
    "    skiprows=3,\n",
    ")"
   ]
  },
  {
   "cell_type": "code",
   "execution_count": null,
   "metadata": {},
   "outputs": [],
   "source": [
    "df_ming = df_ming[df_ming.sex != \"未知\"]"
   ]
  },
  {
   "cell_type": "code",
   "execution_count": null,
   "metadata": {
    "scrolled": false
   },
   "outputs": [],
   "source": [
    "df_ming.head()"
   ]
  },
  {
   "cell_type": "code",
   "execution_count": null,
   "metadata": {
    "scrolled": false
   },
   "outputs": [],
   "source": [
    "df_ming[\"name_expanded\"] = df_ming[\"dict\"].str[1:].apply(lambda name: [name] * 2 if len(name) == 1 else list(name))\n",
    "df_ming"
   ]
  },
  {
   "cell_type": "code",
   "execution_count": null,
   "metadata": {},
   "outputs": [],
   "source": [
    "df_xing = pd.read_excel(\"https://github.com/wainshine/Chinese-Names-Corpus/blob/master/Chinese_Names_Corpus/Chinese_Family_Name%EF%BC%881k%EF%BC%89.xlsx?raw=true\")"
   ]
  },
  {
   "cell_type": "code",
   "execution_count": null,
   "metadata": {},
   "outputs": [],
   "source": [
    "df_xing.columns = [\"xing\", \"frequency\"]\n",
    "df_xing = df_xing[df_xing.frequency > 6]\n",
    "df_xing.head()"
   ]
  },
  {
   "cell_type": "code",
   "execution_count": null,
   "metadata": {},
   "outputs": [],
   "source": [
    "names_list_m = df_ming[df_ming[\"sex\"] == \"男\"][\"name_expanded\"]\n",
    "names_list_f = df_ming[df_ming[\"sex\"] == \"女\"][\"name_expanded\"]"
   ]
  },
  {
   "cell_type": "code",
   "execution_count": null,
   "metadata": {},
   "outputs": [],
   "source": [
    "names_list_m"
   ]
  },
  {
   "cell_type": "code",
   "execution_count": null,
   "metadata": {},
   "outputs": [],
   "source": [
    "char_counter = {\n",
    "    \"m\": [Counter([name[i] for name in names_list_m]) for i in range(2)],\n",
    "    \"f\": [Counter([name[i] for name in names_list_f]) for i in range(2)],\n",
    "}"
   ]
  },
  {
   "cell_type": "code",
   "execution_count": null,
   "metadata": {
    "scrolled": false
   },
   "outputs": [],
   "source": [
    "data = {\n",
    "    \"gender\": [],\n",
    "    \"count\": [],\n",
    "    \"char\": [],\n",
    "    \"position\": [],\n",
    "}\n",
    "for gender in [\"m\", \"f\"]:\n",
    "    for i in range(2):\n",
    "        chars = char_counter[gender][i].keys() \n",
    "        counts = char_counter[gender][i].values()\n",
    "        length = len(chars)\n",
    "        data[\"char\"].extend(chars)\n",
    "        data[\"count\"].extend(counts)\n",
    "        data[\"gender\"].extend([gender] * length)\n",
    "        data[\"position\"].extend([i + 1] * length)\n",
    "        \n",
    "df = pd.DataFrame(data).sort_values(\n",
    "    [\"gender\", \"position\", \"count\"],\n",
    "    ascending=[False, True, False],\n",
    "    ignore_index=True\n",
    ")\n",
    "df"
   ]
  },
  {
   "cell_type": "code",
   "execution_count": null,
   "metadata": {},
   "outputs": [],
   "source": [
    "df[\"pinyin\"] = df.char.apply(lambda char: lazy_pinyin(char)[0])\n",
    "df[\"pinyin_tone\"] = df.char.apply(lambda char: pinyin(char)[0][0])\n",
    "df.drop(\"count\", axis=1, inplace=True)\n",
    "df"
   ]
  },
  {
   "cell_type": "code",
   "execution_count": null,
   "metadata": {},
   "outputs": [],
   "source": [
    "df.to_csv(\"ming_chars.csv\", index=False)"
   ]
  },
  {
   "cell_type": "code",
   "execution_count": null,
   "metadata": {},
   "outputs": [],
   "source": [
    "df_xing.frequency = df_xing.frequency.astype(\"int\")\n",
    "df_xing[\"pinyin\"] = df_xing.xing.apply(lambda xing: lazy_pinyin(xing)[0])\n",
    "df_xing = df_xing.rename(columns={\"frequency\": \"count\"})\n",
    "df_xing[\"pinyins_tone\"] = df_xing.xing.apply(lambda xing: pinyin(xing, heteronym=True)[0])\n",
    "df_xing"
   ]
  },
  {
   "cell_type": "code",
   "execution_count": null,
   "metadata": {
    "scrolled": true
   },
   "outputs": [],
   "source": [
    "df_xing[df_xing[\"pinyins_tone\"].str.len() != 1]"
   ]
  },
  {
   "cell_type": "code",
   "execution_count": null,
   "metadata": {
    "scrolled": true
   },
   "outputs": [],
   "source": [
    "df_xing_multi_pinyins = pd.DataFrame({\n",
    "    \"xing\": [\"曾\",\"肖\",\"任\",\"葛\",\"覃\",\"翟\",\"宁\",\"单\",\"纪\",\"华\",\"解\",\"缪\",\"卜\",\"仇\",\"查\",\"鞠\",\"乐\",\"阚\",\"区\",\"朴\",\"盖\",\"占\",\"都\",\"阙\",\"薄\",\"那\",\"尉\",\"郗\",],\n",
    "    \"pinyin\": [\"zeng\",\"xiao\",\"ren\",\"ge\",\"qin\",\"zhai\",\"ning\",\"shan\",\"ji\",\"hua\",\"xie\",\"miao\",\"bu\",\"qiu\",\"zha\",\"ju\",\"yue\",\"kan\",\"ou\",\"piao\",\"ge\",\"zhan\",\"du\",\"que\",\"bo\",\"na\",\"yu\",\"chi\",],\n",
    "    \"pinyin_tone\": [\"zēng\",\"xiāo\",\"rén\",\"gě\",\"qín\",\"zhái\",\"nìng\",\"shàn\",\"jǐ\",\"huà\",\"xiè\",\"miào\",\"bǔ\",\"qiú\",\"zhā\",\"jú\",\"yuè\",\"kàn\",\"ōu\",\"piáo\",\"gě\",\"zhān\",\"dū\",\"què\",\"bó\",\"nā\",\"yù\",\"chī\",],\n",
    "})\n",
    "df_xing_multi_pinyins"
   ]
  },
  {
   "cell_type": "code",
   "execution_count": null,
   "metadata": {},
   "outputs": [],
   "source": [
    "df_xing = df_xing.merge(df_xing_multi_pinyins, on=\"xing\", suffixes=[\"_l\", \"\"], how=\"left\")\n",
    "df_xing[\"pinyin_tone\"].fillna(df_xing[\"pinyins_tone\"].str[0], inplace=True)\n",
    "df_xing[\"pinyin\"].fillna(df_xing[\"pinyin_l\"], inplace=True)\n",
    "df_xing.drop([\"count\", \"pinyin_l\", \"pinyins_tone\"], axis=1, inplace=True)\n",
    "df_xing"
   ]
  },
  {
   "cell_type": "code",
   "execution_count": null,
   "metadata": {},
   "outputs": [],
   "source": [
    "df_xing.to_csv(\"xings.csv\", index=False)"
   ]
  },
  {
   "cell_type": "code",
   "execution_count": null,
   "metadata": {},
   "outputs": [],
   "source": []
  }
 ],
 "metadata": {
  "kernelspec": {
   "display_name": "Python 3",
   "language": "python",
   "name": "python3"
  },
  "language_info": {
   "codemirror_mode": {
    "name": "ipython",
    "version": 3
   },
   "file_extension": ".py",
   "mimetype": "text/x-python",
   "name": "python",
   "nbconvert_exporter": "python",
   "pygments_lexer": "ipython3",
   "version": "3.8.5"
  }
 },
 "nbformat": 4,
 "nbformat_minor": 4
}
